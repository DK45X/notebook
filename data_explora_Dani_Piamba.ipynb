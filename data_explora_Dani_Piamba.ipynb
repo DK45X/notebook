{
 "cells": [
  {
   "cell_type": "code",
   "execution_count": 6,
   "metadata": {},
   "outputs": [],
   "source": [
    "from google.cloud import dataplex_v1\n",
    "from google.oauth2 import service_account\n",
    "\n",
    "client = dataplex_v1.DataplexServiceClient()\n",
    "\n",
    "metadata_service_client = dataplex_v1.MetadataServiceClient()\n",
    "data_scan_client = dataplex_v1.DataScanServiceClient()\n",
    "\n",
    "# Proyecto\n",
    "project_id = 'vanti-poc-440213'\n",
    "location = 'us-central1'\n",
    "\n",
    "parent = f\"projects/{project_id}/locations/{location}\""
   ]
  },
  {
   "cell_type": "code",
   "execution_count": 8,
   "metadata": {},
   "outputs": [
    {
     "name": "stdout",
     "output_type": "stream",
     "text": [
      "Lagos en el Proyecto:\n",
      "\n",
      "Lago: projects/vanti-poc-440213/locations/us-central1/lakes/lake-poc\n",
      "  Zona: projects/vanti-poc-440213/locations/us-central1/lakes/lake-poc/zones/raw\n",
      "    Entidad: projects/891624744651/locations/us-central1/lakes/lake-poc/zones/raw/entities/raw_customers\n",
      "    Entidad: projects/891624744651/locations/us-central1/lakes/lake-poc/zones/raw/entities/raw_seguimientos\n",
      "\n",
      "DataScans de Calidad de Datos:\n",
      "\n",
      "DataScan ID: projects/vanti-poc-440213/locations/us-central1/dataScans/raw-customer-data-quality-scan\n",
      "\n",
      "DataScan ID: projects/vanti-poc-440213/locations/us-central1/dataScans/raw-customers-profile-scan\n",
      "\n",
      "DataScan ID: projects/vanti-poc-440213/locations/us-central1/dataScans/raw-profile-scan\n"
     ]
    }
   ],
   "source": [
    "# Listar los lagos\n",
    "lakes = client.list_lakes(parent=parent)\n",
    "\n",
    "print(\"Lagos en el Proyecto:\")\n",
    "for lake in lakes:\n",
    "    print(f\"\\nLago: {lake.name}\")\n",
    "    \n",
    "    # Listar las zonas en el lago\n",
    "    zones = client.list_zones(parent=lake.name)\n",
    "    for zone in zones:\n",
    "        print(f\"  Zona: {zone.name}\")\n",
    "        \n",
    "        # Listar las entidades en la zona\n",
    "        entities = metadata_service_client.list_entities(parent=zone.name)\n",
    "        for entity in entities:\n",
    "            print(f\"    Entidad: {entity.name}\")\n",
    "            \n",
    "            # Aquí podrías obtener más detalles de la entidad si es necesario\n",
    "            \n",
    "# Listar los DataScans de Calidad de Datos\n",
    "data_scans = data_scan_client.list_data_scans(parent=parent)\n",
    "\n",
    "print(\"\\nDataScans de Calidad de Datos:\")\n",
    "for data_scan in data_scans:\n",
    "    # Verificar si es un DataScan de calidad de datos\n",
    "    if data_scan.data_quality_spec is not None:\n",
    "        print(f\"\\nDataScan ID: {data_scan.name}\")\n",
    "        # Obtener detalles del DataScan\n",
    "        data_scan_detail = data_scan_client.get_data_scan(name=data_scan.name)\n",
    "        # Acceder a las reglas de calidad\n",
    "        quality_spec = data_scan_detail.data_quality_spec\n",
    "        for rule in quality_spec.rules:\n",
    "            print(f\"  - Regla: {rule.rule_type}\")"
   ]
  },
  {
   "cell_type": "markdown",
   "metadata": {},
   "source": [
    "JsonVanti = r'c:\\Users\\danielpiamba\\Downloads\\vanti-poc-440213-e5ddc44ddc21.json'\n"
   ]
  },
  {
   "cell_type": "code",
   "execution_count": null,
   "metadata": {},
   "outputs": [],
   "source": [
    "from google.cloud import dataplex_v1\n",
    "from google.protobuf import field_mask_pb2\n",
    "\n",
    "# Configurar el cliente\n",
    "data_scan_client = dataplex_v1.DataScanServiceClient()\n",
    "\n",
    "# Especifica tu proyecto, ubicación y DataScan\n",
    "project_id = 'vanti-poc-440213'\n",
    "location = 'us-central1'\n",
    "data_scan_id = 'raw_transacciones_data_quality_scan'\n",
    "data_scan_name = f\"projects/{project_id}/locations/{location}/dataScans/{data_scan_id}\"\n",
    "\n",
    "# Obtener el DataScan\n",
    "data_scan = data_scan_client.get_data_scan(name=data_scan_name)\n",
    "\n",
    "# Identificar la regla a modificar\n",
    "index = None\n",
    "for idx, rule in enumerate(data_scan.data_quality_spec.rules):\n",
    "    if rule.rule_type == dataplex_v1.DataQualityRule.RuleType.NULL_EXPECTATION:\n",
    "        # Suponiendo que queremos modificar esta regla\n",
    "        index = idx\n",
    "        break\n",
    "\n",
    "if index is not None:\n",
    "    # Modificar el parámetro deseado\n",
    "    data_scan.data_quality_spec.rules[index].threshold = 0.95 \n",
    "\n",
    "    # Especificar los campos que han cambiado\n",
    "    update_mask = field_mask_pb2.FieldMask(paths=[\"data_quality_spec.rules\"])\n",
    "\n",
    "    # Crear el DataScan actualizado\n",
    "    updated_data_scan = dataplex_v1.DataScan(\n",
    "        name=data_scan.name,\n",
    "        data_quality_spec=data_scan.data_quality_spec,\n",
    "    )\n",
    "\n",
    "    # Realizar la actualización\n",
    "    operation = data_scan_client.update_data_scan(\n",
    "        data_scan=updated_data_scan,\n",
    "        update_mask=update_mask,\n",
    "    )\n",
    "\n",
    "    # Esperar a que la operación se complete\n",
    "    result = operation.result()\n",
    "\n",
    "    print(\"La regla de calidad de datos ha sido actualizada exitosamente.\")\n",
    "\n",
    "    # Verificar el cambio\n",
    "    updated_data_scan = data_scan_client.get_data_scan(name=data_scan_name)\n",
    "    updated_rule = updated_data_scan.data_quality_spec.rules[index]\n",
    "    print(f\"Nuevo Umbral: {updated_rule.threshold}\")\n",
    "else:\n",
    "    print(\"No se encontró la regla especificada para modificar.\")\n"
   ]
  },
  {
   "cell_type": "code",
   "execution_count": 10,
   "metadata": {},
   "outputs": [],
   "source": [
    "from google.cloud import dataplex_v1\n",
    "from google.protobuf import field_mask_pb2\n",
    "\n",
    "# Configurar el cliente\n",
    "data_scan_client = dataplex_v1.DataScanServiceClient()\n",
    "\n",
    "# Especifica tu proyecto, ubicación y DataScan\n",
    "project_id = 'vanti-poc-440213'\n",
    "location = 'us-central1'\n",
    "data_scan_id = 'raw-transacciones-data-quality-scan'\n",
    "data_scan_name = f\"projects/{project_id}/locations/{location}/dataScans/{data_scan_id}\"\n",
    "\n",
    "# Obtener el DataScan\n",
    "data_scan = data_scan_client.get_data_scan(name=data_scan_name)"
   ]
  },
  {
   "cell_type": "code",
   "execution_count": 12,
   "metadata": {},
   "outputs": [
    {
     "data": {
      "text/plain": [
       "[]"
      ]
     },
     "execution_count": 12,
     "metadata": {},
     "output_type": "execute_result"
    }
   ],
   "source": [
    "rules = data_scan.data_quality_spec.rules\n",
    "rules"
   ]
  },
  {
   "cell_type": "code",
   "execution_count": 13,
   "metadata": {},
   "outputs": [
    {
     "name": "stdout",
     "output_type": "stream",
     "text": [
      "name: \"projects/vanti-poc-440213/locations/us-central1/dataScans/raw-transacciones-data-quality-scan\"\n",
      "uid: \"e59c3e77-223e-4afb-a73a-e66b0e1b4695\"\n",
      "display_name: \"raw_transacciones_data_quality_scan\"\n",
      "state: ACTIVE\n",
      "create_time {\n",
      "  seconds: 1730465540\n",
      "  nanos: 189570271\n",
      "}\n",
      "update_time {\n",
      "  seconds: 1730469242\n",
      "  nanos: 812602745\n",
      "}\n",
      "data {\n",
      "  entity: \"projects/891624744651/locations/us-central1/lakes/lake-poc/zones/raw/entities/raw_transacciones\"\n",
      "}\n",
      "execution_spec {\n",
      "  trigger {\n",
      "    on_demand {\n",
      "    }\n",
      "  }\n",
      "}\n",
      "execution_status {\n",
      "}\n",
      "type_: DATA_QUALITY\n",
      "\n"
     ]
    }
   ],
   "source": [
    "print(data_scan)\n"
   ]
  },
  {
   "cell_type": "code",
   "execution_count": 14,
   "metadata": {},
   "outputs": [
    {
     "ename": "TypeError",
     "evalue": "DataScanServiceClient.get_data_scan() got an unexpected keyword argument 'read_mask'",
     "output_type": "error",
     "traceback": [
      "\u001b[0;31m---------------------------------------------------------------------------\u001b[0m",
      "\u001b[0;31mTypeError\u001b[0m                                 Traceback (most recent call last)",
      "Cell \u001b[0;32mIn[14], line 10\u001b[0m\n\u001b[1;32m      7\u001b[0m field_mask \u001b[38;5;241m=\u001b[39m field_mask_pb2\u001b[38;5;241m.\u001b[39mFieldMask(paths\u001b[38;5;241m=\u001b[39m[\u001b[38;5;124m\"\u001b[39m\u001b[38;5;124mdata_quality_spec\u001b[39m\u001b[38;5;124m\"\u001b[39m])\n\u001b[1;32m      9\u001b[0m \u001b[38;5;66;03m# Obtener el DataScan con el field mask\u001b[39;00m\n\u001b[0;32m---> 10\u001b[0m data_scan \u001b[38;5;241m=\u001b[39m \u001b[43mdata_scan_client\u001b[49m\u001b[38;5;241;43m.\u001b[39;49m\u001b[43mget_data_scan\u001b[49m\u001b[43m(\u001b[49m\u001b[43mname\u001b[49m\u001b[38;5;241;43m=\u001b[39;49m\u001b[43mdata_scan_name\u001b[49m\u001b[43m,\u001b[49m\u001b[43m \u001b[49m\u001b[43mread_mask\u001b[49m\u001b[38;5;241;43m=\u001b[39;49m\u001b[43mfield_mask\u001b[49m\u001b[43m)\u001b[49m\n\u001b[1;32m     12\u001b[0m \u001b[38;5;66;03m# Verificar las reglas de calidad\u001b[39;00m\n\u001b[1;32m     13\u001b[0m \u001b[38;5;28mprint\u001b[39m(data_scan\u001b[38;5;241m.\u001b[39mdata_quality_spec\u001b[38;5;241m.\u001b[39mrules)\n",
      "\u001b[0;31mTypeError\u001b[0m: DataScanServiceClient.get_data_scan() got an unexpected keyword argument 'read_mask'"
     ]
    }
   ],
   "source": [
    "from google.cloud import dataplex_v1\n",
    "from google.protobuf import field_mask_pb2\n",
    "\n",
    "data_scan_client = dataplex_v1.DataScanServiceClient()\n",
    "\n",
    "# Configurar el field mask para incluir data_quality_spec\n",
    "field_mask = field_mask_pb2.FieldMask(paths=[\"data_quality_spec\"])\n",
    "\n",
    "# Obtener el DataScan con el field mask\n",
    "data_scan = data_scan_client.get_data_scan(name=data_scan_name, read_mask=field_mask)\n",
    "\n",
    "# Verificar las reglas de calidad\n",
    "print(data_scan.data_quality_spec.rules)\n"
   ]
  },
  {
   "cell_type": "code",
   "execution_count": 15,
   "metadata": {},
   "outputs": [
    {
     "name": "stdout",
     "output_type": "stream",
     "text": [
      "[]\n"
     ]
    }
   ],
   "source": [
    "from google.cloud import dataplex_v1\n",
    "\n",
    "data_scan_client = dataplex_v1.DataScanServiceClient()\n",
    "\n",
    "# Obtener el DataScan completo\n",
    "data_scan = data_scan_client.get_data_scan(name=data_scan_name)\n",
    "\n",
    "# Verificar las reglas de calidad\n",
    "print(data_scan.data_quality_spec.rules)\n"
   ]
  },
  {
   "cell_type": "code",
   "execution_count": 7,
   "metadata": {},
   "outputs": [
    {
     "ename": "InvalidArgument",
     "evalue": "400 Malformed collection name: 'lakes/dataScans/dataScanJobs'",
     "output_type": "error",
     "traceback": [
      "\u001b[0;31m---------------------------------------------------------------------------\u001b[0m",
      "\u001b[0;31m_InactiveRpcError\u001b[0m                         Traceback (most recent call last)",
      "File \u001b[0;32m/opt/anaconda3/envs/vantipoc/lib/python3.10/site-packages/google/api_core/grpc_helpers.py:76\u001b[0m, in \u001b[0;36m_wrap_unary_errors.<locals>.error_remapped_callable\u001b[0;34m(*args, **kwargs)\u001b[0m\n\u001b[1;32m     75\u001b[0m \u001b[38;5;28;01mtry\u001b[39;00m:\n\u001b[0;32m---> 76\u001b[0m     \u001b[38;5;28;01mreturn\u001b[39;00m \u001b[43mcallable_\u001b[49m\u001b[43m(\u001b[49m\u001b[38;5;241;43m*\u001b[39;49m\u001b[43margs\u001b[49m\u001b[43m,\u001b[49m\u001b[43m \u001b[49m\u001b[38;5;241;43m*\u001b[39;49m\u001b[38;5;241;43m*\u001b[39;49m\u001b[43mkwargs\u001b[49m\u001b[43m)\u001b[49m\n\u001b[1;32m     77\u001b[0m \u001b[38;5;28;01mexcept\u001b[39;00m grpc\u001b[38;5;241m.\u001b[39mRpcError \u001b[38;5;28;01mas\u001b[39;00m exc:\n",
      "File \u001b[0;32m/opt/anaconda3/envs/vantipoc/lib/python3.10/site-packages/grpc/_channel.py:1181\u001b[0m, in \u001b[0;36m_UnaryUnaryMultiCallable.__call__\u001b[0;34m(self, request, timeout, metadata, credentials, wait_for_ready, compression)\u001b[0m\n\u001b[1;32m   1175\u001b[0m (\n\u001b[1;32m   1176\u001b[0m     state,\n\u001b[1;32m   1177\u001b[0m     call,\n\u001b[1;32m   1178\u001b[0m ) \u001b[38;5;241m=\u001b[39m \u001b[38;5;28mself\u001b[39m\u001b[38;5;241m.\u001b[39m_blocking(\n\u001b[1;32m   1179\u001b[0m     request, timeout, metadata, credentials, wait_for_ready, compression\n\u001b[1;32m   1180\u001b[0m )\n\u001b[0;32m-> 1181\u001b[0m \u001b[38;5;28;01mreturn\u001b[39;00m \u001b[43m_end_unary_response_blocking\u001b[49m\u001b[43m(\u001b[49m\u001b[43mstate\u001b[49m\u001b[43m,\u001b[49m\u001b[43m \u001b[49m\u001b[43mcall\u001b[49m\u001b[43m,\u001b[49m\u001b[43m \u001b[49m\u001b[38;5;28;43;01mFalse\u001b[39;49;00m\u001b[43m,\u001b[49m\u001b[43m \u001b[49m\u001b[38;5;28;43;01mNone\u001b[39;49;00m\u001b[43m)\u001b[49m\n",
      "File \u001b[0;32m/opt/anaconda3/envs/vantipoc/lib/python3.10/site-packages/grpc/_channel.py:1006\u001b[0m, in \u001b[0;36m_end_unary_response_blocking\u001b[0;34m(state, call, with_call, deadline)\u001b[0m\n\u001b[1;32m   1005\u001b[0m \u001b[38;5;28;01melse\u001b[39;00m:\n\u001b[0;32m-> 1006\u001b[0m     \u001b[38;5;28;01mraise\u001b[39;00m _InactiveRpcError(state)\n",
      "\u001b[0;31m_InactiveRpcError\u001b[0m: <_InactiveRpcError of RPC that terminated with:\n\tstatus = StatusCode.INVALID_ARGUMENT\n\tdetails = \"Malformed collection name: 'lakes/dataScans/dataScanJobs'\"\n\tdebug_error_string = \"UNKNOWN:Error received from peer ipv6:%5B2800:3f0:4005:407::200a%5D:443 {created_time:\"2024-11-01T11:11:01.844433-05:00\", grpc_status:3, grpc_message:\"Malformed collection name: \\'lakes/dataScans/dataScanJobs\\'\"}\"\n>",
      "\nThe above exception was the direct cause of the following exception:\n",
      "\u001b[0;31mInvalidArgument\u001b[0m                           Traceback (most recent call last)",
      "Cell \u001b[0;32mIn[7], line 23\u001b[0m\n\u001b[1;32m     20\u001b[0m lake_id \u001b[38;5;241m=\u001b[39m \u001b[38;5;124m\"\u001b[39m\u001b[38;5;124mlake-poc\u001b[39m\u001b[38;5;124m\"\u001b[39m\n\u001b[1;32m     21\u001b[0m data_scan_id \u001b[38;5;241m=\u001b[39m \u001b[38;5;124m\"\u001b[39m\u001b[38;5;124mraw-transacciones-data-quality-scan\u001b[39m\u001b[38;5;124m\"\u001b[39m\n\u001b[0;32m---> 23\u001b[0m \u001b[43mlistar_reglas_calidad\u001b[49m\u001b[43m(\u001b[49m\u001b[43mproject_id\u001b[49m\u001b[43m,\u001b[49m\u001b[43m \u001b[49m\u001b[43mlocation\u001b[49m\u001b[43m,\u001b[49m\u001b[43m \u001b[49m\u001b[43mlake_id\u001b[49m\u001b[43m,\u001b[49m\u001b[43m \u001b[49m\u001b[43mdata_scan_id\u001b[49m\u001b[43m)\u001b[49m\n",
      "Cell \u001b[0;32mIn[7], line 9\u001b[0m, in \u001b[0;36mlistar_reglas_calidad\u001b[0;34m(project_id, location, lake_id, data_scan_id)\u001b[0m\n\u001b[1;32m      6\u001b[0m data_scan_client \u001b[38;5;241m=\u001b[39m dataplex_v1\u001b[38;5;241m.\u001b[39mDataScanServiceClient()\n\u001b[1;32m      7\u001b[0m name \u001b[38;5;241m=\u001b[39m \u001b[38;5;124mf\u001b[39m\u001b[38;5;124m\"\u001b[39m\u001b[38;5;124mprojects/\u001b[39m\u001b[38;5;132;01m{\u001b[39;00mproject_id\u001b[38;5;132;01m}\u001b[39;00m\u001b[38;5;124m/locations/\u001b[39m\u001b[38;5;132;01m{\u001b[39;00mlocation\u001b[38;5;132;01m}\u001b[39;00m\u001b[38;5;124m/lakes/\u001b[39m\u001b[38;5;132;01m{\u001b[39;00mlake_id\u001b[38;5;132;01m}\u001b[39;00m\u001b[38;5;124m/dataScans/\u001b[39m\u001b[38;5;132;01m{\u001b[39;00mdata_scan_id\u001b[38;5;132;01m}\u001b[39;00m\u001b[38;5;124m/dataScanJobs/\u001b[39m\u001b[38;5;132;01m{\u001b[39;00mdata_scan_id\u001b[38;5;132;01m}\u001b[39;00m\u001b[38;5;124m\"\u001b[39m  \u001b[38;5;66;03m# Corrección aquí\u001b[39;00m\n\u001b[0;32m----> 9\u001b[0m data_scan_job \u001b[38;5;241m=\u001b[39m \u001b[43mdata_scan_client\u001b[49m\u001b[38;5;241;43m.\u001b[39;49m\u001b[43mget_data_scan_job\u001b[49m\u001b[43m(\u001b[49m\u001b[43mname\u001b[49m\u001b[38;5;241;43m=\u001b[39;49m\u001b[43mname\u001b[49m\u001b[43m)\u001b[49m\n\u001b[1;32m     11\u001b[0m \u001b[38;5;66;03m# Accede a la especificación de calidad de datos desde el data scan job\u001b[39;00m\n\u001b[1;32m     12\u001b[0m \u001b[38;5;28;01mfor\u001b[39;00m rule \u001b[38;5;129;01min\u001b[39;00m data_scan_job\u001b[38;5;241m.\u001b[39mdata_quality_spec\u001b[38;5;241m.\u001b[39mrules:\n",
      "File \u001b[0;32m/opt/anaconda3/envs/vantipoc/lib/python3.10/site-packages/google/cloud/dataplex_v1/services/data_scan_service/client.py:1578\u001b[0m, in \u001b[0;36mDataScanServiceClient.get_data_scan_job\u001b[0;34m(self, request, name, retry, timeout, metadata)\u001b[0m\n\u001b[1;32m   1575\u001b[0m \u001b[38;5;28mself\u001b[39m\u001b[38;5;241m.\u001b[39m_validate_universe_domain()\n\u001b[1;32m   1577\u001b[0m \u001b[38;5;66;03m# Send the request.\u001b[39;00m\n\u001b[0;32m-> 1578\u001b[0m response \u001b[38;5;241m=\u001b[39m \u001b[43mrpc\u001b[49m\u001b[43m(\u001b[49m\n\u001b[1;32m   1579\u001b[0m \u001b[43m    \u001b[49m\u001b[43mrequest\u001b[49m\u001b[43m,\u001b[49m\n\u001b[1;32m   1580\u001b[0m \u001b[43m    \u001b[49m\u001b[43mretry\u001b[49m\u001b[38;5;241;43m=\u001b[39;49m\u001b[43mretry\u001b[49m\u001b[43m,\u001b[49m\n\u001b[1;32m   1581\u001b[0m \u001b[43m    \u001b[49m\u001b[43mtimeout\u001b[49m\u001b[38;5;241;43m=\u001b[39;49m\u001b[43mtimeout\u001b[49m\u001b[43m,\u001b[49m\n\u001b[1;32m   1582\u001b[0m \u001b[43m    \u001b[49m\u001b[43mmetadata\u001b[49m\u001b[38;5;241;43m=\u001b[39;49m\u001b[43mmetadata\u001b[49m\u001b[43m,\u001b[49m\n\u001b[1;32m   1583\u001b[0m \u001b[43m\u001b[49m\u001b[43m)\u001b[49m\n\u001b[1;32m   1585\u001b[0m \u001b[38;5;66;03m# Done; return the response.\u001b[39;00m\n\u001b[1;32m   1586\u001b[0m \u001b[38;5;28;01mreturn\u001b[39;00m response\n",
      "File \u001b[0;32m/opt/anaconda3/envs/vantipoc/lib/python3.10/site-packages/google/api_core/gapic_v1/method.py:131\u001b[0m, in \u001b[0;36m_GapicCallable.__call__\u001b[0;34m(self, timeout, retry, compression, *args, **kwargs)\u001b[0m\n\u001b[1;32m    128\u001b[0m \u001b[38;5;28;01mif\u001b[39;00m \u001b[38;5;28mself\u001b[39m\u001b[38;5;241m.\u001b[39m_compression \u001b[38;5;129;01mis\u001b[39;00m \u001b[38;5;129;01mnot\u001b[39;00m \u001b[38;5;28;01mNone\u001b[39;00m:\n\u001b[1;32m    129\u001b[0m     kwargs[\u001b[38;5;124m\"\u001b[39m\u001b[38;5;124mcompression\u001b[39m\u001b[38;5;124m\"\u001b[39m] \u001b[38;5;241m=\u001b[39m compression\n\u001b[0;32m--> 131\u001b[0m \u001b[38;5;28;01mreturn\u001b[39;00m \u001b[43mwrapped_func\u001b[49m\u001b[43m(\u001b[49m\u001b[38;5;241;43m*\u001b[39;49m\u001b[43margs\u001b[49m\u001b[43m,\u001b[49m\u001b[43m \u001b[49m\u001b[38;5;241;43m*\u001b[39;49m\u001b[38;5;241;43m*\u001b[39;49m\u001b[43mkwargs\u001b[49m\u001b[43m)\u001b[49m\n",
      "File \u001b[0;32m/opt/anaconda3/envs/vantipoc/lib/python3.10/site-packages/google/api_core/grpc_helpers.py:78\u001b[0m, in \u001b[0;36m_wrap_unary_errors.<locals>.error_remapped_callable\u001b[0;34m(*args, **kwargs)\u001b[0m\n\u001b[1;32m     76\u001b[0m     \u001b[38;5;28;01mreturn\u001b[39;00m callable_(\u001b[38;5;241m*\u001b[39margs, \u001b[38;5;241m*\u001b[39m\u001b[38;5;241m*\u001b[39mkwargs)\n\u001b[1;32m     77\u001b[0m \u001b[38;5;28;01mexcept\u001b[39;00m grpc\u001b[38;5;241m.\u001b[39mRpcError \u001b[38;5;28;01mas\u001b[39;00m exc:\n\u001b[0;32m---> 78\u001b[0m     \u001b[38;5;28;01mraise\u001b[39;00m exceptions\u001b[38;5;241m.\u001b[39mfrom_grpc_error(exc) \u001b[38;5;28;01mfrom\u001b[39;00m \u001b[38;5;21;01mexc\u001b[39;00m\n",
      "\u001b[0;31mInvalidArgument\u001b[0m: 400 Malformed collection name: 'lakes/dataScans/dataScanJobs'"
     ]
    }
   ],
   "source": [
    "\n",
    "from google.cloud import dataplex_v1\n",
    "\n",
    "def listar_reglas_calidad(project_id, location, lake_id, data_scan_id):\n",
    "  \"\"\"Lista las reglas de calidad de un data scan job.\"\"\"\n",
    "\n",
    "  data_scan_client = dataplex_v1.DataScanServiceClient()\n",
    "  name = f\"projects/{project_id}/locations/{location}/lakes/{lake_id}/dataScans/{data_scan_id}/dataScanJobs/{data_scan_id}\"  # Corrección aquí\n",
    "\n",
    "  data_scan_job = data_scan_client.get_data_scan_job(name=name)\n",
    "\n",
    "  # Accede a la especificación de calidad de datos desde el data scan job\n",
    "  for rule in data_scan_job.data_quality_spec.rules:\n",
    "      print(f\"Regla: {rule.name}\")\n",
    "      print(f\"  Descripción: {rule.description}\")\n",
    "      # ... imprime otras propiedades de la regla ...\n",
    "\n",
    "# Ejemplo de uso\n",
    "project_id = \"vanti-poc-440213\"\n",
    "location = \"us-central1\"  # ej. \"us-central1\"\n",
    "lake_id = \"lake-poc\"\n",
    "data_scan_id = \"raw-transacciones-data-quality-scan\"\n",
    "\n",
    "listar_reglas_calidad(project_id, location, lake_id, data_scan_id)"
   ]
  },
  {
   "cell_type": "code",
   "execution_count": 9,
   "metadata": {},
   "outputs": [
    {
     "ename": "InvalidArgument",
     "evalue": "400 Malformed collection name: 'lakes/dataScans/jobs'",
     "output_type": "error",
     "traceback": [
      "\u001b[0;31m---------------------------------------------------------------------------\u001b[0m",
      "\u001b[0;31m_InactiveRpcError\u001b[0m                         Traceback (most recent call last)",
      "File \u001b[0;32m/opt/anaconda3/envs/vantipoc/lib/python3.10/site-packages/google/api_core/grpc_helpers.py:76\u001b[0m, in \u001b[0;36m_wrap_unary_errors.<locals>.error_remapped_callable\u001b[0;34m(*args, **kwargs)\u001b[0m\n\u001b[1;32m     75\u001b[0m \u001b[38;5;28;01mtry\u001b[39;00m:\n\u001b[0;32m---> 76\u001b[0m     \u001b[38;5;28;01mreturn\u001b[39;00m \u001b[43mcallable_\u001b[49m\u001b[43m(\u001b[49m\u001b[38;5;241;43m*\u001b[39;49m\u001b[43margs\u001b[49m\u001b[43m,\u001b[49m\u001b[43m \u001b[49m\u001b[38;5;241;43m*\u001b[39;49m\u001b[38;5;241;43m*\u001b[39;49m\u001b[43mkwargs\u001b[49m\u001b[43m)\u001b[49m\n\u001b[1;32m     77\u001b[0m \u001b[38;5;28;01mexcept\u001b[39;00m grpc\u001b[38;5;241m.\u001b[39mRpcError \u001b[38;5;28;01mas\u001b[39;00m exc:\n",
      "File \u001b[0;32m/opt/anaconda3/envs/vantipoc/lib/python3.10/site-packages/grpc/_channel.py:1181\u001b[0m, in \u001b[0;36m_UnaryUnaryMultiCallable.__call__\u001b[0;34m(self, request, timeout, metadata, credentials, wait_for_ready, compression)\u001b[0m\n\u001b[1;32m   1175\u001b[0m (\n\u001b[1;32m   1176\u001b[0m     state,\n\u001b[1;32m   1177\u001b[0m     call,\n\u001b[1;32m   1178\u001b[0m ) \u001b[38;5;241m=\u001b[39m \u001b[38;5;28mself\u001b[39m\u001b[38;5;241m.\u001b[39m_blocking(\n\u001b[1;32m   1179\u001b[0m     request, timeout, metadata, credentials, wait_for_ready, compression\n\u001b[1;32m   1180\u001b[0m )\n\u001b[0;32m-> 1181\u001b[0m \u001b[38;5;28;01mreturn\u001b[39;00m \u001b[43m_end_unary_response_blocking\u001b[49m\u001b[43m(\u001b[49m\u001b[43mstate\u001b[49m\u001b[43m,\u001b[49m\u001b[43m \u001b[49m\u001b[43mcall\u001b[49m\u001b[43m,\u001b[49m\u001b[43m \u001b[49m\u001b[38;5;28;43;01mFalse\u001b[39;49;00m\u001b[43m,\u001b[49m\u001b[43m \u001b[49m\u001b[38;5;28;43;01mNone\u001b[39;49;00m\u001b[43m)\u001b[49m\n",
      "File \u001b[0;32m/opt/anaconda3/envs/vantipoc/lib/python3.10/site-packages/grpc/_channel.py:1006\u001b[0m, in \u001b[0;36m_end_unary_response_blocking\u001b[0;34m(state, call, with_call, deadline)\u001b[0m\n\u001b[1;32m   1005\u001b[0m \u001b[38;5;28;01melse\u001b[39;00m:\n\u001b[0;32m-> 1006\u001b[0m     \u001b[38;5;28;01mraise\u001b[39;00m _InactiveRpcError(state)\n",
      "\u001b[0;31m_InactiveRpcError\u001b[0m: <_InactiveRpcError of RPC that terminated with:\n\tstatus = StatusCode.INVALID_ARGUMENT\n\tdetails = \"Malformed collection name: 'lakes/dataScans/jobs'\"\n\tdebug_error_string = \"UNKNOWN:Error received from peer ipv6:%5B2800:3f0:4005:407::200a%5D:443 {grpc_message:\"Malformed collection name: \\'lakes/dataScans/jobs\\'\", grpc_status:3, created_time:\"2024-11-01T11:15:05.456472-05:00\"}\"\n>",
      "\nThe above exception was the direct cause of the following exception:\n",
      "\u001b[0;31mInvalidArgument\u001b[0m                           Traceback (most recent call last)",
      "Cell \u001b[0;32mIn[9], line 25\u001b[0m\n\u001b[1;32m     21\u001b[0m data_scan_id \u001b[38;5;241m=\u001b[39m \u001b[38;5;124m\"\u001b[39m\u001b[38;5;124mraw-transacciones-data-quality-scan\u001b[39m\u001b[38;5;124m\"\u001b[39m\n\u001b[1;32m     22\u001b[0m job_id \u001b[38;5;241m=\u001b[39m \u001b[38;5;124m\"\u001b[39m\u001b[38;5;124m5bbec257-f912-436f-92ca-152448c5d51d\u001b[39m\u001b[38;5;124m\"\u001b[39m  \u001b[38;5;66;03m# Añade el ID del job\u001b[39;00m\n\u001b[0;32m---> 25\u001b[0m \u001b[43mlistar_reglas_calidad\u001b[49m\u001b[43m(\u001b[49m\u001b[43mproject_id\u001b[49m\u001b[43m,\u001b[49m\u001b[43m \u001b[49m\u001b[43mlocation\u001b[49m\u001b[43m,\u001b[49m\u001b[43m \u001b[49m\u001b[43mlake_id\u001b[49m\u001b[43m,\u001b[49m\u001b[43m \u001b[49m\u001b[43mdata_scan_id\u001b[49m\u001b[43m,\u001b[49m\u001b[43m \u001b[49m\u001b[43mjob_id\u001b[49m\u001b[43m)\u001b[49m\n",
      "Cell \u001b[0;32mIn[9], line 9\u001b[0m, in \u001b[0;36mlistar_reglas_calidad\u001b[0;34m(project_id, location, lake_id, data_scan_id, job_id)\u001b[0m\n\u001b[1;32m      6\u001b[0m data_scan_client \u001b[38;5;241m=\u001b[39m dataplex_v1\u001b[38;5;241m.\u001b[39mDataScanServiceClient()\n\u001b[1;32m      7\u001b[0m name \u001b[38;5;241m=\u001b[39m \u001b[38;5;124mf\u001b[39m\u001b[38;5;124m\"\u001b[39m\u001b[38;5;124mprojects/\u001b[39m\u001b[38;5;132;01m{\u001b[39;00mproject_id\u001b[38;5;132;01m}\u001b[39;00m\u001b[38;5;124m/locations/\u001b[39m\u001b[38;5;132;01m{\u001b[39;00mlocation\u001b[38;5;132;01m}\u001b[39;00m\u001b[38;5;124m/lakes/\u001b[39m\u001b[38;5;132;01m{\u001b[39;00mlake_id\u001b[38;5;132;01m}\u001b[39;00m\u001b[38;5;124m/dataScans/\u001b[39m\u001b[38;5;132;01m{\u001b[39;00mdata_scan_id\u001b[38;5;132;01m}\u001b[39;00m\u001b[38;5;124m/jobs/\u001b[39m\u001b[38;5;132;01m{\u001b[39;00mjob_id\u001b[38;5;132;01m}\u001b[39;00m\u001b[38;5;124m\"\u001b[39m  \u001b[38;5;66;03m# Corrección aquí\u001b[39;00m\n\u001b[0;32m----> 9\u001b[0m data_scan_job \u001b[38;5;241m=\u001b[39m \u001b[43mdata_scan_client\u001b[49m\u001b[38;5;241;43m.\u001b[39;49m\u001b[43mget_data_scan_job\u001b[49m\u001b[43m(\u001b[49m\u001b[43mname\u001b[49m\u001b[38;5;241;43m=\u001b[39;49m\u001b[43mname\u001b[49m\u001b[43m)\u001b[49m\n\u001b[1;32m     11\u001b[0m \u001b[38;5;66;03m# Accede a la especificación de calidad de datos desde el data scan job\u001b[39;00m\n\u001b[1;32m     12\u001b[0m \u001b[38;5;28;01mfor\u001b[39;00m rule \u001b[38;5;129;01min\u001b[39;00m data_scan_job\u001b[38;5;241m.\u001b[39mdata_quality_spec\u001b[38;5;241m.\u001b[39mrules:\n",
      "File \u001b[0;32m/opt/anaconda3/envs/vantipoc/lib/python3.10/site-packages/google/cloud/dataplex_v1/services/data_scan_service/client.py:1578\u001b[0m, in \u001b[0;36mDataScanServiceClient.get_data_scan_job\u001b[0;34m(self, request, name, retry, timeout, metadata)\u001b[0m\n\u001b[1;32m   1575\u001b[0m \u001b[38;5;28mself\u001b[39m\u001b[38;5;241m.\u001b[39m_validate_universe_domain()\n\u001b[1;32m   1577\u001b[0m \u001b[38;5;66;03m# Send the request.\u001b[39;00m\n\u001b[0;32m-> 1578\u001b[0m response \u001b[38;5;241m=\u001b[39m \u001b[43mrpc\u001b[49m\u001b[43m(\u001b[49m\n\u001b[1;32m   1579\u001b[0m \u001b[43m    \u001b[49m\u001b[43mrequest\u001b[49m\u001b[43m,\u001b[49m\n\u001b[1;32m   1580\u001b[0m \u001b[43m    \u001b[49m\u001b[43mretry\u001b[49m\u001b[38;5;241;43m=\u001b[39;49m\u001b[43mretry\u001b[49m\u001b[43m,\u001b[49m\n\u001b[1;32m   1581\u001b[0m \u001b[43m    \u001b[49m\u001b[43mtimeout\u001b[49m\u001b[38;5;241;43m=\u001b[39;49m\u001b[43mtimeout\u001b[49m\u001b[43m,\u001b[49m\n\u001b[1;32m   1582\u001b[0m \u001b[43m    \u001b[49m\u001b[43mmetadata\u001b[49m\u001b[38;5;241;43m=\u001b[39;49m\u001b[43mmetadata\u001b[49m\u001b[43m,\u001b[49m\n\u001b[1;32m   1583\u001b[0m \u001b[43m\u001b[49m\u001b[43m)\u001b[49m\n\u001b[1;32m   1585\u001b[0m \u001b[38;5;66;03m# Done; return the response.\u001b[39;00m\n\u001b[1;32m   1586\u001b[0m \u001b[38;5;28;01mreturn\u001b[39;00m response\n",
      "File \u001b[0;32m/opt/anaconda3/envs/vantipoc/lib/python3.10/site-packages/google/api_core/gapic_v1/method.py:131\u001b[0m, in \u001b[0;36m_GapicCallable.__call__\u001b[0;34m(self, timeout, retry, compression, *args, **kwargs)\u001b[0m\n\u001b[1;32m    128\u001b[0m \u001b[38;5;28;01mif\u001b[39;00m \u001b[38;5;28mself\u001b[39m\u001b[38;5;241m.\u001b[39m_compression \u001b[38;5;129;01mis\u001b[39;00m \u001b[38;5;129;01mnot\u001b[39;00m \u001b[38;5;28;01mNone\u001b[39;00m:\n\u001b[1;32m    129\u001b[0m     kwargs[\u001b[38;5;124m\"\u001b[39m\u001b[38;5;124mcompression\u001b[39m\u001b[38;5;124m\"\u001b[39m] \u001b[38;5;241m=\u001b[39m compression\n\u001b[0;32m--> 131\u001b[0m \u001b[38;5;28;01mreturn\u001b[39;00m \u001b[43mwrapped_func\u001b[49m\u001b[43m(\u001b[49m\u001b[38;5;241;43m*\u001b[39;49m\u001b[43margs\u001b[49m\u001b[43m,\u001b[49m\u001b[43m \u001b[49m\u001b[38;5;241;43m*\u001b[39;49m\u001b[38;5;241;43m*\u001b[39;49m\u001b[43mkwargs\u001b[49m\u001b[43m)\u001b[49m\n",
      "File \u001b[0;32m/opt/anaconda3/envs/vantipoc/lib/python3.10/site-packages/google/api_core/grpc_helpers.py:78\u001b[0m, in \u001b[0;36m_wrap_unary_errors.<locals>.error_remapped_callable\u001b[0;34m(*args, **kwargs)\u001b[0m\n\u001b[1;32m     76\u001b[0m     \u001b[38;5;28;01mreturn\u001b[39;00m callable_(\u001b[38;5;241m*\u001b[39margs, \u001b[38;5;241m*\u001b[39m\u001b[38;5;241m*\u001b[39mkwargs)\n\u001b[1;32m     77\u001b[0m \u001b[38;5;28;01mexcept\u001b[39;00m grpc\u001b[38;5;241m.\u001b[39mRpcError \u001b[38;5;28;01mas\u001b[39;00m exc:\n\u001b[0;32m---> 78\u001b[0m     \u001b[38;5;28;01mraise\u001b[39;00m exceptions\u001b[38;5;241m.\u001b[39mfrom_grpc_error(exc) \u001b[38;5;28;01mfrom\u001b[39;00m \u001b[38;5;21;01mexc\u001b[39;00m\n",
      "\u001b[0;31mInvalidArgument\u001b[0m: 400 Malformed collection name: 'lakes/dataScans/jobs'"
     ]
    }
   ],
   "source": [
    "from google.cloud import dataplex_v1\n",
    "\n",
    "def listar_reglas_calidad(project_id, location, lake_id, data_scan_id, job_id):  # Añade job_id como argumento\n",
    "  \"\"\"Lista las reglas de calidad de un data scan job.\"\"\"\n",
    "\n",
    "  data_scan_client = dataplex_v1.DataScanServiceClient()\n",
    "  name = f\"projects/{project_id}/locations/{location}/lakes/{lake_id}/dataScans/{data_scan_id}/jobs/{job_id}\"  # Corrección aquí\n",
    "\n",
    "  data_scan_job = data_scan_client.get_data_scan_job(name=name)\n",
    "\n",
    "  # Accede a la especificación de calidad de datos desde el data scan job\n",
    "  for rule in data_scan_job.data_quality_spec.rules:\n",
    "      print(f\"Regla: {rule.name}\")\n",
    "      print(f\"  Descripción: {rule.description}\")\n",
    "      # ... imprime otras propiedades de la regla ...\n",
    "\n",
    "# Ejemplo de uso\n",
    "project_id = \"vanti-poc-440213\"\n",
    "location = \"us-central1\"  # ej. \"us-central1\"\n",
    "lake_id = \"lake-poc\"\n",
    "data_scan_id = \"raw-transacciones-data-quality-scan\"\n",
    "job_id = \"5bbec257-f912-436f-92ca-152448c5d51d\"  # Añade el ID del job\n",
    "\n",
    "\n",
    "listar_reglas_calidad(project_id, location, lake_id, data_scan_id, job_id)"
   ]
  },
  {
   "cell_type": "code",
   "execution_count": 17,
   "metadata": {},
   "outputs": [
    {
     "name": "stdout",
     "output_type": "stream",
     "text": [
      "Requirement already satisfied: google-cloud-dataplex in /opt/anaconda3/envs/vantipoc/lib/python3.10/site-packages (2.3.1)\n",
      "Requirement already satisfied: google-api-core!=2.0.*,!=2.1.*,!=2.10.*,!=2.2.*,!=2.3.*,!=2.4.*,!=2.5.*,!=2.6.*,!=2.7.*,!=2.8.*,!=2.9.*,<3.0.0dev,>=1.34.1 in /opt/anaconda3/envs/vantipoc/lib/python3.10/site-packages (from google-api-core[grpc]!=2.0.*,!=2.1.*,!=2.10.*,!=2.2.*,!=2.3.*,!=2.4.*,!=2.5.*,!=2.6.*,!=2.7.*,!=2.8.*,!=2.9.*,<3.0.0dev,>=1.34.1->google-cloud-dataplex) (2.22.0)\n",
      "Requirement already satisfied: google-auth!=2.24.0,!=2.25.0,<3.0.0dev,>=2.14.1 in /opt/anaconda3/envs/vantipoc/lib/python3.10/site-packages (from google-cloud-dataplex) (2.35.0)\n",
      "Requirement already satisfied: proto-plus<2.0.0dev,>=1.22.3 in /opt/anaconda3/envs/vantipoc/lib/python3.10/site-packages (from google-cloud-dataplex) (1.25.0)\n",
      "Requirement already satisfied: protobuf!=4.21.0,!=4.21.1,!=4.21.2,!=4.21.3,!=4.21.4,!=4.21.5,<6.0.0dev,>=3.20.2 in /opt/anaconda3/envs/vantipoc/lib/python3.10/site-packages (from google-cloud-dataplex) (5.28.3)\n",
      "Requirement already satisfied: grpc-google-iam-v1<1.0.0dev,>=0.12.4 in /opt/anaconda3/envs/vantipoc/lib/python3.10/site-packages (from google-cloud-dataplex) (0.13.1)\n",
      "Requirement already satisfied: googleapis-common-protos<2.0.dev0,>=1.56.2 in /opt/anaconda3/envs/vantipoc/lib/python3.10/site-packages (from google-api-core!=2.0.*,!=2.1.*,!=2.10.*,!=2.2.*,!=2.3.*,!=2.4.*,!=2.5.*,!=2.6.*,!=2.7.*,!=2.8.*,!=2.9.*,<3.0.0dev,>=1.34.1->google-api-core[grpc]!=2.0.*,!=2.1.*,!=2.10.*,!=2.2.*,!=2.3.*,!=2.4.*,!=2.5.*,!=2.6.*,!=2.7.*,!=2.8.*,!=2.9.*,<3.0.0dev,>=1.34.1->google-cloud-dataplex) (1.65.0)\n",
      "Requirement already satisfied: requests<3.0.0.dev0,>=2.18.0 in /opt/anaconda3/envs/vantipoc/lib/python3.10/site-packages (from google-api-core!=2.0.*,!=2.1.*,!=2.10.*,!=2.2.*,!=2.3.*,!=2.4.*,!=2.5.*,!=2.6.*,!=2.7.*,!=2.8.*,!=2.9.*,<3.0.0dev,>=1.34.1->google-api-core[grpc]!=2.0.*,!=2.1.*,!=2.10.*,!=2.2.*,!=2.3.*,!=2.4.*,!=2.5.*,!=2.6.*,!=2.7.*,!=2.8.*,!=2.9.*,<3.0.0dev,>=1.34.1->google-cloud-dataplex) (2.32.3)\n",
      "Requirement already satisfied: grpcio<2.0dev,>=1.33.2 in /opt/anaconda3/envs/vantipoc/lib/python3.10/site-packages (from google-api-core[grpc]!=2.0.*,!=2.1.*,!=2.10.*,!=2.2.*,!=2.3.*,!=2.4.*,!=2.5.*,!=2.6.*,!=2.7.*,!=2.8.*,!=2.9.*,<3.0.0dev,>=1.34.1->google-cloud-dataplex) (1.67.1)\n",
      "Requirement already satisfied: grpcio-status<2.0.dev0,>=1.33.2 in /opt/anaconda3/envs/vantipoc/lib/python3.10/site-packages (from google-api-core[grpc]!=2.0.*,!=2.1.*,!=2.10.*,!=2.2.*,!=2.3.*,!=2.4.*,!=2.5.*,!=2.6.*,!=2.7.*,!=2.8.*,!=2.9.*,<3.0.0dev,>=1.34.1->google-cloud-dataplex) (1.67.1)\n",
      "Requirement already satisfied: cachetools<6.0,>=2.0.0 in /opt/anaconda3/envs/vantipoc/lib/python3.10/site-packages (from google-auth!=2.24.0,!=2.25.0,<3.0.0dev,>=2.14.1->google-cloud-dataplex) (5.5.0)\n",
      "Requirement already satisfied: pyasn1-modules>=0.2.1 in /opt/anaconda3/envs/vantipoc/lib/python3.10/site-packages (from google-auth!=2.24.0,!=2.25.0,<3.0.0dev,>=2.14.1->google-cloud-dataplex) (0.4.1)\n",
      "Requirement already satisfied: rsa<5,>=3.1.4 in /opt/anaconda3/envs/vantipoc/lib/python3.10/site-packages (from google-auth!=2.24.0,!=2.25.0,<3.0.0dev,>=2.14.1->google-cloud-dataplex) (4.9)\n",
      "Requirement already satisfied: pyasn1<0.7.0,>=0.4.6 in /opt/anaconda3/envs/vantipoc/lib/python3.10/site-packages (from pyasn1-modules>=0.2.1->google-auth!=2.24.0,!=2.25.0,<3.0.0dev,>=2.14.1->google-cloud-dataplex) (0.6.1)\n",
      "Requirement already satisfied: charset-normalizer<4,>=2 in /opt/anaconda3/envs/vantipoc/lib/python3.10/site-packages (from requests<3.0.0.dev0,>=2.18.0->google-api-core!=2.0.*,!=2.1.*,!=2.10.*,!=2.2.*,!=2.3.*,!=2.4.*,!=2.5.*,!=2.6.*,!=2.7.*,!=2.8.*,!=2.9.*,<3.0.0dev,>=1.34.1->google-api-core[grpc]!=2.0.*,!=2.1.*,!=2.10.*,!=2.2.*,!=2.3.*,!=2.4.*,!=2.5.*,!=2.6.*,!=2.7.*,!=2.8.*,!=2.9.*,<3.0.0dev,>=1.34.1->google-cloud-dataplex) (3.4.0)\n",
      "Requirement already satisfied: idna<4,>=2.5 in /opt/anaconda3/envs/vantipoc/lib/python3.10/site-packages (from requests<3.0.0.dev0,>=2.18.0->google-api-core!=2.0.*,!=2.1.*,!=2.10.*,!=2.2.*,!=2.3.*,!=2.4.*,!=2.5.*,!=2.6.*,!=2.7.*,!=2.8.*,!=2.9.*,<3.0.0dev,>=1.34.1->google-api-core[grpc]!=2.0.*,!=2.1.*,!=2.10.*,!=2.2.*,!=2.3.*,!=2.4.*,!=2.5.*,!=2.6.*,!=2.7.*,!=2.8.*,!=2.9.*,<3.0.0dev,>=1.34.1->google-cloud-dataplex) (3.10)\n",
      "Requirement already satisfied: urllib3<3,>=1.21.1 in /opt/anaconda3/envs/vantipoc/lib/python3.10/site-packages (from requests<3.0.0.dev0,>=2.18.0->google-api-core!=2.0.*,!=2.1.*,!=2.10.*,!=2.2.*,!=2.3.*,!=2.4.*,!=2.5.*,!=2.6.*,!=2.7.*,!=2.8.*,!=2.9.*,<3.0.0dev,>=1.34.1->google-api-core[grpc]!=2.0.*,!=2.1.*,!=2.10.*,!=2.2.*,!=2.3.*,!=2.4.*,!=2.5.*,!=2.6.*,!=2.7.*,!=2.8.*,!=2.9.*,<3.0.0dev,>=1.34.1->google-cloud-dataplex) (2.2.3)\n",
      "Requirement already satisfied: certifi>=2017.4.17 in /opt/anaconda3/envs/vantipoc/lib/python3.10/site-packages (from requests<3.0.0.dev0,>=2.18.0->google-api-core!=2.0.*,!=2.1.*,!=2.10.*,!=2.2.*,!=2.3.*,!=2.4.*,!=2.5.*,!=2.6.*,!=2.7.*,!=2.8.*,!=2.9.*,<3.0.0dev,>=1.34.1->google-api-core[grpc]!=2.0.*,!=2.1.*,!=2.10.*,!=2.2.*,!=2.3.*,!=2.4.*,!=2.5.*,!=2.6.*,!=2.7.*,!=2.8.*,!=2.9.*,<3.0.0dev,>=1.34.1->google-cloud-dataplex) (2024.8.30)\n",
      "Note: you may need to restart the kernel to use updated packages.\n"
     ]
    }
   ],
   "source": [
    "pip install --upgrade google-cloud-dataplex"
   ]
  },
  {
   "cell_type": "code",
   "execution_count": 2,
   "metadata": {},
   "outputs": [
    {
     "name": "stdout",
     "output_type": "stream",
     "text": [
      "2.3.1\n"
     ]
    }
   ],
   "source": [
    "import google.cloud.dataplex\n",
    "\n",
    "print(google.cloud.dataplex.__version__)"
   ]
  }
 ],
 "metadata": {
  "kernelspec": {
   "display_name": "vantipoc",
   "language": "python",
   "name": "python3"
  },
  "language_info": {
   "codemirror_mode": {
    "name": "ipython",
    "version": 3
   },
   "file_extension": ".py",
   "mimetype": "text/x-python",
   "name": "python",
   "nbconvert_exporter": "python",
   "pygments_lexer": "ipython3",
   "version": "3.10.15"
  }
 },
 "nbformat": 4,
 "nbformat_minor": 2
}
