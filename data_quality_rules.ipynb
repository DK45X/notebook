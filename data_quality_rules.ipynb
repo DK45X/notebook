{
 "cells": [
  {
   "cell_type": "code",
   "execution_count": 43,
   "metadata": {},
   "outputs": [],
   "source": [
    "from google.cloud import dataplex_v1\n",
    "\n",
    "# Inicializa el cliente de Dataplex\n",
    "client = dataplex_v1.DataScanServiceClient()\n",
    "\n",
    "# Especifica los detalles del escaneo de calidad de datos que deseas actualizar\n",
    "project_id = 'vanti-poc-440213'\n",
    "location = 'us-central1'\n",
    "data_scan_id = 'test-data-quality-scan'\n",
    "\n",
    "# Construye el nombre completo del recurso del escaneo de calidad de datos\n",
    "data_scan_name = f'projects/{project_id}/locations/{location}/dataScans/{data_scan_id}'"
   ]
  },
  {
   "cell_type": "code",
   "execution_count": 51,
   "metadata": {},
   "outputs": [
    {
     "ename": "AttributeError",
     "evalue": "'Operation' object has no attribute 'name'",
     "output_type": "error",
     "traceback": [
      "\u001b[0;31m---------------------------------------------------------------------------\u001b[0m",
      "\u001b[0;31mAttributeError\u001b[0m                            Traceback (most recent call last)",
      "Cell \u001b[0;32mIn[51], line 54\u001b[0m\n\u001b[1;32m     48\u001b[0m \u001b[38;5;66;03m# Realiza la actualización\u001b[39;00m\n\u001b[1;32m     49\u001b[0m updated_data_scan \u001b[38;5;241m=\u001b[39m client\u001b[38;5;241m.\u001b[39mupdate_data_scan(\n\u001b[1;32m     50\u001b[0m     data_scan\u001b[38;5;241m=\u001b[39mdata_scan,\n\u001b[1;32m     51\u001b[0m     update_mask\u001b[38;5;241m=\u001b[39mupdate_mask\n\u001b[1;32m     52\u001b[0m )\n\u001b[0;32m---> 54\u001b[0m \u001b[38;5;28mprint\u001b[39m(\u001b[38;5;124mf\u001b[39m\u001b[38;5;124m'\u001b[39m\u001b[38;5;124mEscaneo de calidad de datos actualizado: \u001b[39m\u001b[38;5;132;01m{\u001b[39;00m\u001b[43mupdated_data_scan\u001b[49m\u001b[38;5;241;43m.\u001b[39;49m\u001b[43mname\u001b[49m\u001b[38;5;132;01m}\u001b[39;00m\u001b[38;5;124m'\u001b[39m)\n",
      "\u001b[0;31mAttributeError\u001b[0m: 'Operation' object has no attribute 'name'"
     ]
    }
   ],
   "source": [
    "from google.cloud import dataplex_v1\n",
    "import os\n",
    "from google.protobuf import field_mask_pb2\n",
    "\n",
    "# Ruta local al archivo JSON de la cuenta de servicio\n",
    "ruta_json_key = '/Users/andersonmorales/Downloads/vanti-poc-440213-e5ddc44ddc21.json'\n",
    "\n",
    "# Establece la variable de entorno para la autenticación\n",
    "os.environ['GOOGLE_APPLICATION_CREDENTIALS'] = ruta_json_key\n",
    "\n",
    "# Inicializa el cliente de Dataplex\n",
    "client = dataplex_v1.DataScanServiceClient()\n",
    "\n",
    "# Especifica los detalles del proyecto y la ubicación\n",
    "project_id = 'vanti-poc-440213'\n",
    "location = 'us-central1'\n",
    "data_scan_id = 'test-data-quality-scan'\n",
    "\n",
    "# Construye el nombre completo del recurso del escaneo de calidad de datos\n",
    "data_scan_name = f'projects/{project_id}/locations/{location}/dataScans/{data_scan_id}'\n",
    "\n",
    "# Obtén el escaneo de calidad de datos existente\n",
    "data_scan = client.get_data_scan(name=data_scan_name)\n",
    "\n",
    "# Define la nueva regla de completitud para la columna 'Sexo'\n",
    "nueva_regla = dataplex_v1.DataQualityRule(\n",
    "    non_null_expectation=dataplex_v1.DataQualityRule.NonNullExpectation(),\n",
    "    column='Sexo',\n",
    "    dimension='COMPLETENESS',  # Especifica la dimensión como una cadena\n",
    "    threshold=1.0  # 100% de completitud esperado\n",
    ")\n",
    "\n",
    "# Verifica si ya existen reglas definidas y agrega la nueva regla\n",
    "if data_scan.data_quality_spec and data_scan.data_quality_spec.rules:\n",
    "    reglas_existentes = list(data_scan.data_quality_spec.rules)\n",
    "else:\n",
    "    reglas_existentes = []\n",
    "\n",
    "# Agrega la nueva regla a la lista de reglas existentes\n",
    "reglas_existentes.append(nueva_regla)\n",
    "\n",
    "# Actualiza el campo data_quality_spec.rules con la nueva lista de reglas\n",
    "data_scan.data_quality_spec.rules = reglas_existentes\n",
    "\n",
    "# Define el campo que se actualizará\n",
    "update_mask = field_mask_pb2.FieldMask(paths=['data_quality_spec.rules'])\n",
    "\n",
    "# Realiza la actualización\n",
    "updated_data_scan = client.update_data_scan(\n",
    "    data_scan=data_scan,\n",
    "    update_mask=update_mask\n",
    ")\n",
    "\n",
    "print(f'Escaneo de calidad de datos actualizado: {updated_data_scan.name}')\n",
    "\n"
   ]
  },
  {
   "cell_type": "code",
   "execution_count": null,
   "metadata": {},
   "outputs": [
    {
     "name": "stdout",
     "output_type": "stream",
     "text": [
      "Escaneo de calidad de datos actualizado correctamente.\n"
     ]
    }
   ],
   "source": [
    "from google.cloud import dataplex_v1\n",
    "import os\n",
    "from google.protobuf import field_mask_pb2\n",
    "\n",
    "# Ruta local al archivo JSON de la cuenta de servicio\n",
    "ruta_json_key = '/Users/andersonmorales/Downloads/vanti-poc-440213-e5ddc44ddc21.json'\n",
    "\n",
    "# Establece la variable de entorno para la autenticación\n",
    "os.environ['GOOGLE_APPLICATION_CREDENTIALS'] = ruta_json_key\n",
    "\n",
    "# Inicializa el cliente de Dataplex\n",
    "client = dataplex_v1.DataScanServiceClient()\n",
    "\n",
    "# Especifica los detalles del proyecto y la ubicación\n",
    "project_id = 'vanti-poc-440213'\n",
    "location = 'us-central1'\n",
    "data_scan_id = 'test-data-quality-scan'\n",
    "\n",
    "# Construye el nombre completo del recurso del escaneo de calidad de datos\n",
    "data_scan_name = f'projects/{project_id}/locations/{location}/dataScans/{data_scan_id}'\n",
    "\n",
    "# Obtén el escaneo de calidad de datos existente\n",
    "data_scan = client.get_data_scan(name=data_scan_name)\n",
    "\n",
    "# Define la nueva regla de completitud para la columna 'Sexo'\n",
    "nueva_regla = dataplex_v1.DataQualityRule(\n",
    "    non_null_expectation=dataplex_v1.DataQualityRule.NonNullExpectation(),\n",
    "    column='Sexo',\n",
    "    dimension='COMPLETENESS',  # Especifica la dimensión como una cadena\n",
    "    threshold=1.0  # 100% de completitud esperado\n",
    ")\n",
    "\n",
    "# Verifica si ya existen reglas definidas y agrega la nueva regla\n",
    "if data_scan.data_quality_spec and data_scan.data_quality_spec.rules:\n",
    "    reglas_existentes = list(data_scan.data_quality_spec.rules)\n",
    "else:\n",
    "    reglas_existentes = []\n",
    "\n",
    "# Agrega la nueva regla a la lista de reglas existentes\n",
    "reglas_existentes.append(nueva_regla)\n",
    "\n",
    "# Actualiza el campo data_quality_spec.rules con la nueva lista de reglas\n",
    "data_scan.data_quality_spec.rules = reglas_existentes\n",
    "\n",
    "# Define el campo que se actualizará\n",
    "update_mask = field_mask_pb2.FieldMask(paths=['data_quality_spec.rules'])\n",
    "\n",
    "# Realiza la actualización y espera a que la operación se complete\n",
    "operation = client.update_data_scan(\n",
    "    data_scan=data_scan,\n",
    "    update_mask=update_mask\n",
    ")\n",
    "\n",
    "# Espera a que la operación se complete\n",
    "updated_data_scan = operation.result()\n",
    "\n",
    "print(\"Escaneo de calidad de datos actualizado correctamente.\")"
   ]
  },
  {
   "cell_type": "code",
   "execution_count": 54,
   "metadata": {},
   "outputs": [],
   "source": [
    "data_scan = client.get_data_scan(name=data_scan_name)"
   ]
  },
  {
   "cell_type": "code",
   "execution_count": 55,
   "metadata": {},
   "outputs": [
    {
     "data": {
      "text/plain": [
       "name: \"projects/vanti-poc-440213/locations/us-central1/dataScans/test-data-quality-scan\"\n",
       "uid: \"62a62540-951d-43f6-8ce8-62f05b83e4dd\"\n",
       "display_name: \"test_data_quality_scan\"\n",
       "state: ACTIVE\n",
       "create_time {\n",
       "  seconds: 1730940879\n",
       "  nanos: 519194800\n",
       "}\n",
       "update_time {\n",
       "  seconds: 1730942725\n",
       "  nanos: 276870993\n",
       "}\n",
       "data {\n",
       "  entity: \"projects/891624744651/locations/us-central1/lakes/lake-poc/zones/raw/entities/raw_clientes\"\n",
       "}\n",
       "execution_spec {\n",
       "  trigger {\n",
       "    on_demand {\n",
       "    }\n",
       "  }\n",
       "}\n",
       "execution_status {\n",
       "  latest_job_start_time {\n",
       "    seconds: 1730940939\n",
       "    nanos: 849000000\n",
       "  }\n",
       "  latest_job_end_time {\n",
       "    seconds: 1730940967\n",
       "    nanos: 485842611\n",
       "  }\n",
       "  latest_job_create_time {\n",
       "    seconds: 1730940939\n",
       "    nanos: 472293937\n",
       "  }\n",
       "}\n",
       "type_: DATA_QUALITY"
      ]
     },
     "execution_count": 55,
     "metadata": {},
     "output_type": "execute_result"
    }
   ],
   "source": [
    "data_scan"
   ]
  },
  {
   "cell_type": "code",
   "execution_count": 56,
   "metadata": {},
   "outputs": [
    {
     "name": "stdout",
     "output_type": "stream",
     "text": [
      "No hay reglas de calidad de datos definidas en este escaneo.\n"
     ]
    }
   ],
   "source": [
    "# Verifica si hay reglas definidas en data_quality_spec y listarlas\n",
    "if data_scan.data_quality_spec and data_scan.data_quality_spec.rules:\n",
    "    print(\"Reglas de calidad de datos:\")\n",
    "    for rule in data_scan.data_quality_spec.rules:\n",
    "        print(rule)\n",
    "else:\n",
    "    print(\"No hay reglas de calidad de datos definidas en este escaneo.\")"
   ]
  },
  {
   "cell_type": "code",
   "execution_count": 44,
   "metadata": {},
   "outputs": [
    {
     "ename": "AttributeError",
     "evalue": "type object 'DataQualityRule' has no attribute 'Dimension'",
     "output_type": "error",
     "traceback": [
      "\u001b[0;31m---------------------------------------------------------------------------\u001b[0m",
      "\u001b[0;31mAttributeError\u001b[0m                            Traceback (most recent call last)",
      "Cell \u001b[0;32mIn[44], line 7\u001b[0m\n\u001b[1;32m      1\u001b[0m \u001b[38;5;28;01mfrom\u001b[39;00m \u001b[38;5;21;01mgoogle\u001b[39;00m\u001b[38;5;21;01m.\u001b[39;00m\u001b[38;5;21;01mcloud\u001b[39;00m\u001b[38;5;21;01m.\u001b[39;00m\u001b[38;5;21;01mdataplex_v1\u001b[39;00m\u001b[38;5;21;01m.\u001b[39;00m\u001b[38;5;21;01mtypes\u001b[39;00m \u001b[38;5;28;01mimport\u001b[39;00m DataQualityRule\n\u001b[1;32m      3\u001b[0m \u001b[38;5;66;03m# Define la nueva regla de completitud\u001b[39;00m\n\u001b[1;32m      4\u001b[0m nueva_regla \u001b[38;5;241m=\u001b[39m DataQualityRule(\n\u001b[1;32m      5\u001b[0m     column\u001b[38;5;241m=\u001b[39m\u001b[38;5;124m'\u001b[39m\u001b[38;5;124mSexo\u001b[39m\u001b[38;5;124m'\u001b[39m,\n\u001b[1;32m      6\u001b[0m     non_null_expectation\u001b[38;5;241m=\u001b[39mDataQualityRule\u001b[38;5;241m.\u001b[39mNonNullExpectation(),\n\u001b[0;32m----> 7\u001b[0m     dimension\u001b[38;5;241m=\u001b[39m\u001b[43mDataQualityRule\u001b[49m\u001b[38;5;241;43m.\u001b[39;49m\u001b[43mDimension\u001b[49m\u001b[38;5;241m.\u001b[39mCOMPLETENESS,\n\u001b[1;32m      8\u001b[0m     threshold\u001b[38;5;241m=\u001b[39m\u001b[38;5;241m1.0\u001b[39m  \u001b[38;5;66;03m# 100% de completitud esperado\u001b[39;00m\n\u001b[1;32m      9\u001b[0m )\n",
      "\u001b[0;31mAttributeError\u001b[0m: type object 'DataQualityRule' has no attribute 'Dimension'"
     ]
    }
   ],
   "source": [
    "from google.cloud.dataplex_v1.types import DataQualityRule\n",
    "\n",
    "# Define la nueva regla de completitud\n",
    "nueva_regla = DataQualityRule(\n",
    "    column='Sexo',\n",
    "    non_null_expectation=DataQualityRule.NonNullExpectation(),\n",
    "    dimension=DataQualityRule.Dimension.COMPLETENESS,\n",
    "    threshold=1.0  # 100% de completitud esperado\n",
    ")\n"
   ]
  },
  {
   "cell_type": "code",
   "execution_count": 46,
   "metadata": {},
   "outputs": [
    {
     "data": {
      "text/plain": [
       "['NonNullExpectation',\n",
       " 'RangeExpectation',\n",
       " 'RegexExpectation',\n",
       " 'RowConditionExpectation',\n",
       " 'SetExpectation',\n",
       " 'SqlAssertion',\n",
       " 'StatisticRangeExpectation',\n",
       " 'TableConditionExpectation',\n",
       " 'UniquenessExpectation',\n",
       " '__abstractmethods__',\n",
       " '__annotations__',\n",
       " '__base__',\n",
       " '__bases__',\n",
       " '__basicsize__',\n",
       " '__call__',\n",
       " '__class__',\n",
       " '__delattr__',\n",
       " '__dict__',\n",
       " '__dictoffset__',\n",
       " '__dir__',\n",
       " '__doc__',\n",
       " '__eq__',\n",
       " '__flags__',\n",
       " '__format__',\n",
       " '__ge__',\n",
       " '__getattribute__',\n",
       " '__gt__',\n",
       " '__hash__',\n",
       " '__init__',\n",
       " '__init_subclass__',\n",
       " '__instancecheck__',\n",
       " '__itemsize__',\n",
       " '__le__',\n",
       " '__lt__',\n",
       " '__module__',\n",
       " '__mro__',\n",
       " '__name__',\n",
       " '__ne__',\n",
       " '__new__',\n",
       " '__or__',\n",
       " '__prepare__',\n",
       " '__qualname__',\n",
       " '__reduce__',\n",
       " '__reduce_ex__',\n",
       " '__repr__',\n",
       " '__ror__',\n",
       " '__setattr__',\n",
       " '__sizeof__',\n",
       " '__str__',\n",
       " '__subclasscheck__',\n",
       " '__subclasses__',\n",
       " '__subclasshook__',\n",
       " '__text_signature__',\n",
       " '__weakrefoffset__',\n",
       " 'copy_from',\n",
       " 'deserialize',\n",
       " 'from_json',\n",
       " 'meta',\n",
       " 'mro',\n",
       " 'pb',\n",
       " 'serialize',\n",
       " 'to_dict',\n",
       " 'to_json',\n",
       " 'wrap']"
      ]
     },
     "execution_count": 46,
     "metadata": {},
     "output_type": "execute_result"
    }
   ],
   "source": [
    "dir(DataQualityRule)"
   ]
  },
  {
   "cell_type": "code",
   "execution_count": null,
   "metadata": {},
   "outputs": [
    {
     "name": "stdout",
     "output_type": "stream",
     "text": [
      "No hay reglas de calidad de datos definidas en este escaneo.\n"
     ]
    }
   ],
   "source": [
    "from google.cloud import dataplex_v1\n",
    "import os\n",
    "\n",
    "# Ruta local al archivo JSON de la cuenta de servicio\n",
    "ruta_json_key = '/Users/andersonmorales/Downloads/vanti-poc-440213-46ded95d74a2.json'\n",
    "\n",
    "# Establece la variable de entorno para la autenticación\n",
    "os.environ['GOOGLE_APPLICATION_CREDENTIALS'] = ruta_json_key\n",
    "\n",
    "# Inicializa el cliente de Dataplex\n",
    "client = dataplex_v1.DataScanServiceClient()\n",
    "\n",
    "# Especifica los detalles del escaneo de calidad de datos que deseas actualizar\n",
    "project_id = 'vanti-poc-440213'\n",
    "location = 'us-central1'\n",
    "data_scan_id = 'test-data-quality-scan'\n",
    "\n",
    "# Construye el nombre completo del recurso del escaneo de calidad de datos\n",
    "data_scan_name = f'projects/{project_id}/locations/{location}/dataScans/{data_scan_id}'\n",
    "\n",
    "# Obtén el escaneo de calidad de datos\n",
    "data_scan = client.get_data_scan(name=data_scan_name)\n",
    "\n",
    "# Verifica si hay reglas definidas en data_quality_spec y listarlas\n",
    "if data_scan.data_quality_spec and data_scan.data_quality_spec.rules:\n",
    "    print(\"Reglas de calidad de datos:\")\n",
    "    for rule in data_scan.data_quality_spec.rules:\n",
    "        print(rule)\n",
    "else:\n",
    "    print(\"No hay reglas de calidad de datos definidas en este escaneo.\")\n"
   ]
  },
  {
   "cell_type": "code",
   "execution_count": 42,
   "metadata": {},
   "outputs": [
    {
     "name": "stdout",
     "output_type": "stream",
     "text": [
      "\n",
      "DataScan ID: projects/vanti-poc-440213/locations/us-central1/dataScans/raw-contactos-data-profile\n",
      "Display Name: raw_contactos_data_profile\n",
      "No hay reglas de calidad de datos definidas en este escaneo.\n",
      "\n",
      "DataScan ID: projects/vanti-poc-440213/locations/us-central1/dataScans/raw-canales-email-data-quality-scan\n",
      "Display Name: raw_canales_email_data_quality_scan\n",
      "No hay reglas de calidad de datos definidas en este escaneo.\n",
      "\n",
      "DataScan ID: projects/vanti-poc-440213/locations/us-central1/dataScans/raw-customer-data-quality-scan\n",
      "Display Name: raw_customer_data_quality_scan\n",
      "No hay reglas de calidad de datos definidas en este escaneo.\n",
      "\n",
      "DataScan ID: projects/vanti-poc-440213/locations/us-central1/dataScans/raw-canales-tel-data-quality-scan\n",
      "Display Name: raw_canales_tel_data_quality_scan\n",
      "No hay reglas de calidad de datos definidas en este escaneo.\n",
      "\n",
      "DataScan ID: projects/vanti-poc-440213/locations/us-central1/dataScans/raw-canales-data-profile\n",
      "Display Name: raw_canales_data_profile\n",
      "No hay reglas de calidad de datos definidas en este escaneo.\n",
      "\n",
      "DataScan ID: projects/vanti-poc-440213/locations/us-central1/dataScans/raw-clientes-data-quality-scan\n",
      "Display Name: raw_clientes_data_quality_scan\n",
      "No hay reglas de calidad de datos definidas en este escaneo.\n",
      "\n",
      "DataScan ID: projects/vanti-poc-440213/locations/us-central1/dataScans/raw-respuestas-data-profile\n",
      "Display Name: raw_respuestas_data_profile\n",
      "No hay reglas de calidad de datos definidas en este escaneo.\n",
      "\n",
      "DataScan ID: projects/vanti-poc-440213/locations/us-central1/dataScans/raw-transacciones-data-profile\n",
      "Display Name: raw_transacciones_data_profile\n",
      "No hay reglas de calidad de datos definidas en este escaneo.\n",
      "\n",
      "DataScan ID: projects/vanti-poc-440213/locations/us-central1/dataScans/raw-transacciones-data-quality-scan\n",
      "Display Name: raw_transacciones_data_quality_scan\n",
      "No hay reglas de calidad de datos definidas en este escaneo.\n",
      "\n",
      "DataScan ID: projects/vanti-poc-440213/locations/us-central1/dataScans/raw-canales-dir-data-quality-scan\n",
      "Display Name: raw_canales_dir_data_quality_scan\n",
      "No hay reglas de calidad de datos definidas en este escaneo.\n",
      "\n",
      "DataScan ID: projects/vanti-poc-440213/locations/us-central1/dataScans/raw-canales-data-quality-scan\n",
      "Display Name: raw_canales_data_quality_scan\n",
      "No hay reglas de calidad de datos definidas en este escaneo.\n",
      "\n",
      "DataScan ID: projects/vanti-poc-440213/locations/us-central1/dataScans/raw-seguimientos-data-profile\n",
      "Display Name: raw_seguimientos_data_profile\n",
      "No hay reglas de calidad de datos definidas en este escaneo.\n",
      "\n",
      "DataScan ID: projects/vanti-poc-440213/locations/us-central1/dataScans/test-data-quality-scan\n",
      "Display Name: test_data_quality_scan\n",
      "No hay reglas de calidad de datos definidas en este escaneo.\n",
      "\n",
      "DataScan ID: projects/vanti-poc-440213/locations/us-central1/dataScans/raw-clientes-data-profile\n",
      "Display Name: raw_clientes_data_profile\n",
      "No hay reglas de calidad de datos definidas en este escaneo.\n"
     ]
    }
   ],
   "source": [
    "from google.cloud import dataplex_v1\n",
    "import os\n",
    "\n",
    "# Ruta local al archivo JSON de la cuenta de servicio\n",
    "ruta_json_key = '/Users/andersonmorales/Downloads/vanti-poc-440213-46ded95d74a2.json'\n",
    "\n",
    "# Establece la variable de entorno para la autenticación\n",
    "os.environ['GOOGLE_APPLICATION_CREDENTIALS'] = ruta_json_key\n",
    "\n",
    "# Inicializa el cliente de Dataplex\n",
    "client = dataplex_v1.DataScanServiceClient()\n",
    "\n",
    "# Especifica los detalles del proyecto y la ubicación\n",
    "project_id = 'vanti-poc-440213'\n",
    "location = 'us-central1'\n",
    "parent = f'projects/{project_id}/locations/{location}'\n",
    "\n",
    "# Itera sobre todos los DataScans disponibles\n",
    "for data_scan in client.list_data_scans(parent=parent):\n",
    "    print(f\"\\nDataScan ID: {data_scan.name}\")\n",
    "    print(f\"Display Name: {data_scan.display_name}\")\n",
    "\n",
    "    # Obtén los detalles del DataScan específico\n",
    "    data_scan_details = client.get_data_scan(name=data_scan.name)\n",
    "\n",
    "    # Verifica si hay reglas definidas en data_quality_spec y listarlas\n",
    "    if data_scan_details.data_quality_spec and data_scan_details.data_quality_spec.rules:\n",
    "        print(\"Reglas de calidad de datos:\")\n",
    "        for rule in data_scan_details.data_quality_spec.rules:\n",
    "            print(rule)\n",
    "    else:\n",
    "        print(\"No hay reglas de calidad de datos definidas en este escaneo.\")"
   ]
  },
  {
   "cell_type": "code",
   "execution_count": 40,
   "metadata": {},
   "outputs": [
    {
     "data": {
      "text/plain": [
       "[]"
      ]
     },
     "execution_count": 40,
     "metadata": {},
     "output_type": "execute_result"
    }
   ],
   "source": [
    "data_scan.data_quality_spec.rules"
   ]
  },
  {
   "cell_type": "code",
   "execution_count": 25,
   "metadata": {},
   "outputs": [
    {
     "name": "stdout",
     "output_type": "stream",
     "text": [
      "Autenticado como: data-quality@vanti-poc-440213.iam.gserviceaccount.com\n"
     ]
    }
   ],
   "source": [
    "from google.auth import default\n",
    "\n",
    "# Obtén las credenciales actualmente en uso\n",
    "credentials, project = default()\n",
    "print(\"Autenticado como:\", credentials.service_account_email)\n"
   ]
  },
  {
   "cell_type": "code",
   "execution_count": 26,
   "metadata": {},
   "outputs": [
    {
     "name": "stdout",
     "output_type": "stream",
     "text": [
      "['ExecutionSpec', 'ExecutionStatus', 'LabelsEntry', '__bool__', '__class__', '__contains__', '__delattr__', '__dict__', '__dir__', '__doc__', '__eq__', '__format__', '__ge__', '__getattr__', '__getattribute__', '__getstate__', '__gt__', '__hash__', '__init__', '__init_subclass__', '__le__', '__lt__', '__module__', '__ne__', '__new__', '__reduce__', '__reduce_ex__', '__repr__', '__setattr__', '__setstate__', '__sizeof__', '__str__', '__subclasshook__', '__weakref__', 'create_time', 'data', 'data_profile_result', 'data_profile_spec', 'data_quality_result', 'data_quality_spec', 'description', 'display_name', 'execution_spec', 'execution_status', 'labels', 'name', 'state', 'type_', 'uid', 'update_time']\n"
     ]
    }
   ],
   "source": [
    "print(dir(data_scan))"
   ]
  },
  {
   "cell_type": "code",
   "execution_count": 34,
   "metadata": {},
   "outputs": [
    {
     "name": "stdout",
     "output_type": "stream",
     "text": [
      "\n",
      "\n",
      "trigger {\n",
      "  on_demand {\n",
      "  }\n",
      "}\n",
      "\n",
      "latest_job_start_time {\n",
      "  seconds: 1730934196\n",
      "  nanos: 353000000\n",
      "}\n",
      "latest_job_end_time {\n",
      "  seconds: 1730934224\n",
      "  nanos: 424120388\n",
      "}\n",
      "latest_job_create_time {\n",
      "  seconds: 1730934195\n",
      "  nanos: 882581385\n",
      "}\n",
      "\n",
      "\n",
      "\n"
     ]
    }
   ],
   "source": [
    "print(data_scan.data_quality_spec)\n",
    "print(data_scan.data_quality_result)\n",
    "print(data_scan.execution_spec)\n",
    "print(data_scan.execution_status)\n",
    "print(data_scan.data_profile_spec)\n",
    "print(data_scan.data_profile_result)"
   ]
  },
  {
   "cell_type": "code",
   "execution_count": 33,
   "metadata": {},
   "outputs": [
    {
     "name": "stdout",
     "output_type": "stream",
     "text": [
      "trigger {\n",
      "  on_demand {\n",
      "  }\n",
      "}\n",
      "\n"
     ]
    }
   ],
   "source": [
    "print(data_scan.execution_spec)\n",
    "\n"
   ]
  },
  {
   "cell_type": "code",
   "execution_count": 36,
   "metadata": {},
   "outputs": [
    {
     "name": "stdout",
     "output_type": "stream",
     "text": [
      "No hay reglas de calidad de datos definidas en este escaneo.\n"
     ]
    }
   ],
   "source": [
    "# Obtén el escaneo de calidad de datos\n",
    "data_scan = client.get_data_scan(name=data_scan_name)\n",
    "\n",
    "# Verifica si hay reglas definidas en data_quality_spec y listarlas\n",
    "if data_scan.data_quality_spec and data_scan.data_quality_spec.rules:\n",
    "    print(\"Reglas de calidad de datos:\")\n",
    "    for rule in data_scan.data_quality_spec.rules:\n",
    "        print(rule)\n",
    "else:\n",
    "    print(\"No hay reglas de calidad de datos definidas en este escaneo.\")"
   ]
  },
  {
   "cell_type": "code",
   "execution_count": 10,
   "metadata": {},
   "outputs": [
    {
     "data": {
      "text/plain": [
       "range_expectation {\n",
       "  min_value: \"10\"\n",
       "  max_value: \"100\"\n",
       "}"
      ]
     },
     "execution_count": 10,
     "metadata": {},
     "output_type": "execute_result"
    }
   ],
   "source": [
    "rule"
   ]
  },
  {
   "cell_type": "code",
   "execution_count": 17,
   "metadata": {},
   "outputs": [
    {
     "data": {
      "text/plain": []
     },
     "execution_count": 17,
     "metadata": {},
     "output_type": "execute_result"
    }
   ],
   "source": [
    "data_scan = client.get_data_scan(name=data_scan_name)\n",
    "data_scan.data_quality_spec"
   ]
  },
  {
   "cell_type": "code",
   "execution_count": 20,
   "metadata": {},
   "outputs": [],
   "source": [
    "rule = dataplex_v1.DataQualityRule()"
   ]
  },
  {
   "cell_type": "code",
   "execution_count": 22,
   "metadata": {},
   "outputs": [
    {
     "data": {
      "text/plain": [
       "google.cloud.dataplex_v1.types.data_quality.DataQualityRule"
      ]
     },
     "execution_count": 22,
     "metadata": {},
     "output_type": "execute_result"
    }
   ],
   "source": [
    "type(rule)"
   ]
  },
  {
   "cell_type": "code",
   "execution_count": 8,
   "metadata": {},
   "outputs": [
    {
     "ename": "AttributeError",
     "evalue": "Unknown field for RangeExpectation: dimension",
     "output_type": "error",
     "traceback": [
      "\u001b[0;31m---------------------------------------------------------------------------\u001b[0m",
      "\u001b[0;31mAttributeError\u001b[0m                            Traceback (most recent call last)",
      "Cell \u001b[0;32mIn[8], line 12\u001b[0m\n\u001b[1;32m     10\u001b[0m rule\u001b[38;5;241m.\u001b[39mrange_expectation\u001b[38;5;241m.\u001b[39mmin_value \u001b[38;5;241m=\u001b[39m \u001b[38;5;124m'\u001b[39m\u001b[38;5;124m10\u001b[39m\u001b[38;5;124m'\u001b[39m\n\u001b[1;32m     11\u001b[0m rule\u001b[38;5;241m.\u001b[39mrange_expectation\u001b[38;5;241m.\u001b[39mmax_value \u001b[38;5;241m=\u001b[39m \u001b[38;5;124m'\u001b[39m\u001b[38;5;124m100\u001b[39m\u001b[38;5;124m'\u001b[39m\n\u001b[0;32m---> 12\u001b[0m \u001b[43mrule\u001b[49m\u001b[38;5;241;43m.\u001b[39;49m\u001b[43mrange_expectation\u001b[49m\u001b[38;5;241;43m.\u001b[39;49m\u001b[43mdimension\u001b[49m \u001b[38;5;241m=\u001b[39m \u001b[38;5;124m\"\u001b[39m\u001b[38;5;124mVALIDITY\u001b[39m\u001b[38;5;124m\"\u001b[39m  \u001b[38;5;66;03m# Especifica una dimensión\u001b[39;00m\n\u001b[1;32m     13\u001b[0m rule\u001b[38;5;241m.\u001b[39mrange_expectation\u001b[38;5;241m.\u001b[39mcolumn_name \u001b[38;5;241m=\u001b[39m \u001b[38;5;124m\"\u001b[39m\u001b[38;5;124mnombre_de_columna\u001b[39m\u001b[38;5;124m\"\u001b[39m  \u001b[38;5;66;03m# Reemplaza con el nombre de tu columna\u001b[39;00m\n\u001b[1;32m     14\u001b[0m data_scan\u001b[38;5;241m.\u001b[39mdata_quality_spec\u001b[38;5;241m.\u001b[39mrules\u001b[38;5;241m.\u001b[39mappend(rule)\n",
      "File \u001b[0;32m/opt/anaconda3/envs/vantipoc/lib/python3.10/site-packages/proto/message.py:902\u001b[0m, in \u001b[0;36mMessage.__setattr__\u001b[0;34m(self, key, value)\u001b[0m\n\u001b[1;32m    900\u001b[0m (key, pb_type) \u001b[38;5;241m=\u001b[39m \u001b[38;5;28mself\u001b[39m\u001b[38;5;241m.\u001b[39m_get_pb_type_from_key(key)\n\u001b[1;32m    901\u001b[0m \u001b[38;5;28;01mif\u001b[39;00m pb_type \u001b[38;5;129;01mis\u001b[39;00m \u001b[38;5;28;01mNone\u001b[39;00m:\n\u001b[0;32m--> 902\u001b[0m     \u001b[38;5;28;01mraise\u001b[39;00m \u001b[38;5;167;01mAttributeError\u001b[39;00m(\n\u001b[1;32m    903\u001b[0m         \u001b[38;5;124m\"\u001b[39m\u001b[38;5;124mUnknown field for \u001b[39m\u001b[38;5;132;01m{}\u001b[39;00m\u001b[38;5;124m: \u001b[39m\u001b[38;5;132;01m{}\u001b[39;00m\u001b[38;5;124m\"\u001b[39m\u001b[38;5;241m.\u001b[39mformat(\u001b[38;5;28mself\u001b[39m\u001b[38;5;241m.\u001b[39m\u001b[38;5;18m__class__\u001b[39m\u001b[38;5;241m.\u001b[39m\u001b[38;5;18m__name__\u001b[39m, key)\n\u001b[1;32m    904\u001b[0m     )\n\u001b[1;32m    906\u001b[0m pb_value \u001b[38;5;241m=\u001b[39m marshal\u001b[38;5;241m.\u001b[39mto_proto(pb_type, value)\n\u001b[1;32m    908\u001b[0m \u001b[38;5;66;03m# Clear the existing field.\u001b[39;00m\n\u001b[1;32m    909\u001b[0m \u001b[38;5;66;03m# This is the only way to successfully write nested falsy values,\u001b[39;00m\n\u001b[1;32m    910\u001b[0m \u001b[38;5;66;03m# because otherwise MergeFrom will no-op on them.\u001b[39;00m\n",
      "\u001b[0;31mAttributeError\u001b[0m: Unknown field for RangeExpectation: dimension"
     ]
    }
   ],
   "source": [
    "data_scan = client.get_data_scan(name=data_scan_name)\n",
    "\n",
    "# Verificar y agregar DataQualitySpec si falta\n",
    "if not data_scan.data_quality_spec:\n",
    "    data_scan.data_quality_spec = dataplex_v1.DataQualitySpec()\n",
    "\n",
    "# Añadir una regla de calidad si aún no hay ninguna\n",
    "if not data_scan.data_quality_spec.rules:\n",
    "    rule = dataplex_v1.DataQualityRule()\n",
    "    rule.range_expectation.min_value = '10'\n",
    "    rule.range_expectation.max_value = '100'\n",
    "    rule.range_expectation.dimension = \"VALIDITY\"  # Especifica una dimensión\n",
    "    rule.range_expectation.column_name = \"nombre_de_columna\"  # Reemplaza con el nombre de tu columna\n",
    "    data_scan.data_quality_spec.rules.append(rule)\n",
    "\n",
    "# Actualizar el escaneo de calidad de datos con la regla nueva\n",
    "update_mask = {'paths': ['data_quality_spec.rules']}\n",
    "updated_data_scan = client.update_data_scan(data_scan=data_scan, update_mask=update_mask)\n",
    "\n",
    "print(f'Escaneo de calidad de datos actualizado: {updated_data_scan.name}')"
   ]
  },
  {
   "cell_type": "code",
   "execution_count": 3,
   "metadata": {},
   "outputs": [
    {
     "ename": "InvalidArgument",
     "evalue": "400 DataQualitySpec must include at least one rule.",
     "output_type": "error",
     "traceback": [
      "\u001b[0;31m---------------------------------------------------------------------------\u001b[0m",
      "\u001b[0;31m_InactiveRpcError\u001b[0m                         Traceback (most recent call last)",
      "File \u001b[0;32m/opt/anaconda3/envs/vantipoc/lib/python3.10/site-packages/google/api_core/grpc_helpers.py:76\u001b[0m, in \u001b[0;36m_wrap_unary_errors.<locals>.error_remapped_callable\u001b[0;34m(*args, **kwargs)\u001b[0m\n\u001b[1;32m     75\u001b[0m \u001b[38;5;28;01mtry\u001b[39;00m:\n\u001b[0;32m---> 76\u001b[0m     \u001b[38;5;28;01mreturn\u001b[39;00m \u001b[43mcallable_\u001b[49m\u001b[43m(\u001b[49m\u001b[38;5;241;43m*\u001b[39;49m\u001b[43margs\u001b[49m\u001b[43m,\u001b[49m\u001b[43m \u001b[49m\u001b[38;5;241;43m*\u001b[39;49m\u001b[38;5;241;43m*\u001b[39;49m\u001b[43mkwargs\u001b[49m\u001b[43m)\u001b[49m\n\u001b[1;32m     77\u001b[0m \u001b[38;5;28;01mexcept\u001b[39;00m grpc\u001b[38;5;241m.\u001b[39mRpcError \u001b[38;5;28;01mas\u001b[39;00m exc:\n",
      "File \u001b[0;32m/opt/anaconda3/envs/vantipoc/lib/python3.10/site-packages/grpc/_channel.py:1181\u001b[0m, in \u001b[0;36m_UnaryUnaryMultiCallable.__call__\u001b[0;34m(self, request, timeout, metadata, credentials, wait_for_ready, compression)\u001b[0m\n\u001b[1;32m   1175\u001b[0m (\n\u001b[1;32m   1176\u001b[0m     state,\n\u001b[1;32m   1177\u001b[0m     call,\n\u001b[1;32m   1178\u001b[0m ) \u001b[38;5;241m=\u001b[39m \u001b[38;5;28mself\u001b[39m\u001b[38;5;241m.\u001b[39m_blocking(\n\u001b[1;32m   1179\u001b[0m     request, timeout, metadata, credentials, wait_for_ready, compression\n\u001b[1;32m   1180\u001b[0m )\n\u001b[0;32m-> 1181\u001b[0m \u001b[38;5;28;01mreturn\u001b[39;00m \u001b[43m_end_unary_response_blocking\u001b[49m\u001b[43m(\u001b[49m\u001b[43mstate\u001b[49m\u001b[43m,\u001b[49m\u001b[43m \u001b[49m\u001b[43mcall\u001b[49m\u001b[43m,\u001b[49m\u001b[43m \u001b[49m\u001b[38;5;28;43;01mFalse\u001b[39;49;00m\u001b[43m,\u001b[49m\u001b[43m \u001b[49m\u001b[38;5;28;43;01mNone\u001b[39;49;00m\u001b[43m)\u001b[49m\n",
      "File \u001b[0;32m/opt/anaconda3/envs/vantipoc/lib/python3.10/site-packages/grpc/_channel.py:1006\u001b[0m, in \u001b[0;36m_end_unary_response_blocking\u001b[0;34m(state, call, with_call, deadline)\u001b[0m\n\u001b[1;32m   1005\u001b[0m \u001b[38;5;28;01melse\u001b[39;00m:\n\u001b[0;32m-> 1006\u001b[0m     \u001b[38;5;28;01mraise\u001b[39;00m _InactiveRpcError(state)\n",
      "\u001b[0;31m_InactiveRpcError\u001b[0m: <_InactiveRpcError of RPC that terminated with:\n\tstatus = StatusCode.INVALID_ARGUMENT\n\tdetails = \"DataQualitySpec must include at least one rule.\"\n\tdebug_error_string = \"UNKNOWN:Error received from peer ipv4:142.251.132.106:443 {grpc_message:\"DataQualitySpec must include at least one rule.\", grpc_status:3, created_time:\"2024-11-06T19:08:58.496932-05:00\"}\"\n>",
      "\nThe above exception was the direct cause of the following exception:\n",
      "\u001b[0;31mInvalidArgument\u001b[0m                           Traceback (most recent call last)",
      "Cell \u001b[0;32mIn[3], line 14\u001b[0m\n\u001b[1;32m     11\u001b[0m         rule\u001b[38;5;241m.\u001b[39mrange_expectation\u001b[38;5;241m.\u001b[39mmax_value \u001b[38;5;241m=\u001b[39m \u001b[38;5;124m'\u001b[39m\u001b[38;5;124m100\u001b[39m\u001b[38;5;124m'\u001b[39m\n\u001b[1;32m     13\u001b[0m update_mask \u001b[38;5;241m=\u001b[39m {\u001b[38;5;124m'\u001b[39m\u001b[38;5;124mpaths\u001b[39m\u001b[38;5;124m'\u001b[39m: [\u001b[38;5;124m'\u001b[39m\u001b[38;5;124mdata_quality_spec.rules\u001b[39m\u001b[38;5;124m'\u001b[39m]}\n\u001b[0;32m---> 14\u001b[0m updated_data_scan \u001b[38;5;241m=\u001b[39m \u001b[43mclient\u001b[49m\u001b[38;5;241;43m.\u001b[39;49m\u001b[43mupdate_data_scan\u001b[49m\u001b[43m(\u001b[49m\u001b[43mdata_scan\u001b[49m\u001b[38;5;241;43m=\u001b[39;49m\u001b[43mdata_scan\u001b[49m\u001b[43m,\u001b[49m\u001b[43m \u001b[49m\u001b[43mupdate_mask\u001b[49m\u001b[38;5;241;43m=\u001b[39;49m\u001b[43mupdate_mask\u001b[49m\u001b[43m)\u001b[49m\n\u001b[1;32m     16\u001b[0m \u001b[38;5;28mprint\u001b[39m(\u001b[38;5;124mf\u001b[39m\u001b[38;5;124m'\u001b[39m\u001b[38;5;124mEscaneo de calidad de datos actualizado: \u001b[39m\u001b[38;5;132;01m{\u001b[39;00mupdated_data_scan\u001b[38;5;241m.\u001b[39mname\u001b[38;5;132;01m}\u001b[39;00m\u001b[38;5;124m'\u001b[39m)\n",
      "File \u001b[0;32m/opt/anaconda3/envs/vantipoc/lib/python3.10/site-packages/google/cloud/dataplex_v1/services/data_scan_service/client.py:999\u001b[0m, in \u001b[0;36mDataScanServiceClient.update_data_scan\u001b[0;34m(self, request, data_scan, update_mask, retry, timeout, metadata)\u001b[0m\n\u001b[1;32m    996\u001b[0m \u001b[38;5;28mself\u001b[39m\u001b[38;5;241m.\u001b[39m_validate_universe_domain()\n\u001b[1;32m    998\u001b[0m \u001b[38;5;66;03m# Send the request.\u001b[39;00m\n\u001b[0;32m--> 999\u001b[0m response \u001b[38;5;241m=\u001b[39m \u001b[43mrpc\u001b[49m\u001b[43m(\u001b[49m\n\u001b[1;32m   1000\u001b[0m \u001b[43m    \u001b[49m\u001b[43mrequest\u001b[49m\u001b[43m,\u001b[49m\n\u001b[1;32m   1001\u001b[0m \u001b[43m    \u001b[49m\u001b[43mretry\u001b[49m\u001b[38;5;241;43m=\u001b[39;49m\u001b[43mretry\u001b[49m\u001b[43m,\u001b[49m\n\u001b[1;32m   1002\u001b[0m \u001b[43m    \u001b[49m\u001b[43mtimeout\u001b[49m\u001b[38;5;241;43m=\u001b[39;49m\u001b[43mtimeout\u001b[49m\u001b[43m,\u001b[49m\n\u001b[1;32m   1003\u001b[0m \u001b[43m    \u001b[49m\u001b[43mmetadata\u001b[49m\u001b[38;5;241;43m=\u001b[39;49m\u001b[43mmetadata\u001b[49m\u001b[43m,\u001b[49m\n\u001b[1;32m   1004\u001b[0m \u001b[43m\u001b[49m\u001b[43m)\u001b[49m\n\u001b[1;32m   1006\u001b[0m \u001b[38;5;66;03m# Wrap the response in an operation future.\u001b[39;00m\n\u001b[1;32m   1007\u001b[0m response \u001b[38;5;241m=\u001b[39m operation\u001b[38;5;241m.\u001b[39mfrom_gapic(\n\u001b[1;32m   1008\u001b[0m     response,\n\u001b[1;32m   1009\u001b[0m     \u001b[38;5;28mself\u001b[39m\u001b[38;5;241m.\u001b[39m_transport\u001b[38;5;241m.\u001b[39moperations_client,\n\u001b[1;32m   1010\u001b[0m     datascans\u001b[38;5;241m.\u001b[39mDataScan,\n\u001b[1;32m   1011\u001b[0m     metadata_type\u001b[38;5;241m=\u001b[39mservice\u001b[38;5;241m.\u001b[39mOperationMetadata,\n\u001b[1;32m   1012\u001b[0m )\n",
      "File \u001b[0;32m/opt/anaconda3/envs/vantipoc/lib/python3.10/site-packages/google/api_core/gapic_v1/method.py:131\u001b[0m, in \u001b[0;36m_GapicCallable.__call__\u001b[0;34m(self, timeout, retry, compression, *args, **kwargs)\u001b[0m\n\u001b[1;32m    128\u001b[0m \u001b[38;5;28;01mif\u001b[39;00m \u001b[38;5;28mself\u001b[39m\u001b[38;5;241m.\u001b[39m_compression \u001b[38;5;129;01mis\u001b[39;00m \u001b[38;5;129;01mnot\u001b[39;00m \u001b[38;5;28;01mNone\u001b[39;00m:\n\u001b[1;32m    129\u001b[0m     kwargs[\u001b[38;5;124m\"\u001b[39m\u001b[38;5;124mcompression\u001b[39m\u001b[38;5;124m\"\u001b[39m] \u001b[38;5;241m=\u001b[39m compression\n\u001b[0;32m--> 131\u001b[0m \u001b[38;5;28;01mreturn\u001b[39;00m \u001b[43mwrapped_func\u001b[49m\u001b[43m(\u001b[49m\u001b[38;5;241;43m*\u001b[39;49m\u001b[43margs\u001b[49m\u001b[43m,\u001b[49m\u001b[43m \u001b[49m\u001b[38;5;241;43m*\u001b[39;49m\u001b[38;5;241;43m*\u001b[39;49m\u001b[43mkwargs\u001b[49m\u001b[43m)\u001b[49m\n",
      "File \u001b[0;32m/opt/anaconda3/envs/vantipoc/lib/python3.10/site-packages/google/api_core/grpc_helpers.py:78\u001b[0m, in \u001b[0;36m_wrap_unary_errors.<locals>.error_remapped_callable\u001b[0;34m(*args, **kwargs)\u001b[0m\n\u001b[1;32m     76\u001b[0m     \u001b[38;5;28;01mreturn\u001b[39;00m callable_(\u001b[38;5;241m*\u001b[39margs, \u001b[38;5;241m*\u001b[39m\u001b[38;5;241m*\u001b[39mkwargs)\n\u001b[1;32m     77\u001b[0m \u001b[38;5;28;01mexcept\u001b[39;00m grpc\u001b[38;5;241m.\u001b[39mRpcError \u001b[38;5;28;01mas\u001b[39;00m exc:\n\u001b[0;32m---> 78\u001b[0m     \u001b[38;5;28;01mraise\u001b[39;00m exceptions\u001b[38;5;241m.\u001b[39mfrom_grpc_error(exc) \u001b[38;5;28;01mfrom\u001b[39;00m \u001b[38;5;21;01mexc\u001b[39;00m\n",
      "\u001b[0;31mInvalidArgument\u001b[0m: 400 DataQualitySpec must include at least one rule."
     ]
    }
   ],
   "source": [
    "data_scan = client.get_data_scan(name=data_scan_name)\n",
    "\n",
    "# Verificar y agregar DataQualitySpec si falta\n",
    "if not data_scan.data_quality_spec:\n",
    "    data_scan.data_quality_spec = dataplex_v1.DataQualitySpec()\n",
    "\n",
    "# Modificar los parámetros de la regla de calidad\n",
    "for rule in data_scan.data_quality_spec.rules:\n",
    "    if rule.range_expectation:\n",
    "        rule.range_expectation.min_value = '10'\n",
    "        rule.range_expectation.max_value = '100'\n",
    "\n",
    "update_mask = {'paths': ['data_quality_spec.rules']}\n",
    "updated_data_scan = client.update_data_scan(data_scan=data_scan, update_mask=update_mask)\n",
    "\n",
    "print(f'Escaneo de calidad de datos actualizado: {updated_data_scan.name}')"
   ]
  }
 ],
 "metadata": {
  "kernelspec": {
   "display_name": "vantipoc",
   "language": "python",
   "name": "python3"
  },
  "language_info": {
   "codemirror_mode": {
    "name": "ipython",
    "version": 3
   },
   "file_extension": ".py",
   "mimetype": "text/x-python",
   "name": "python",
   "nbconvert_exporter": "python",
   "pygments_lexer": "ipython3",
   "version": "3.10.15"
  }
 },
 "nbformat": 4,
 "nbformat_minor": 2
}
